{
 "cells": [
  {
   "cell_type": "code",
   "execution_count": 2,
   "metadata": {},
   "outputs": [
    {
     "name": "stdout",
     "output_type": "stream",
     "text": [
      "   Feature_1  Feature_2  Feature_3  Feature_4  Feature_5  Feature_6  \\\n",
      "0   0.177719  -2.681202  -0.847667  -0.817180   0.335193  -1.735526   \n",
      "1  -1.001741  -1.565734   1.461369   1.511607   0.897442  -3.641585   \n",
      "2   1.457602  -0.156201   0.901834   1.021681   1.112249   1.511980   \n",
      "3   0.156688  -4.783146  -0.484698  -0.754672  -2.574577  -0.356063   \n",
      "4   0.780096  -0.592755   2.002540  -3.219841  -0.585504   2.134278   \n",
      "\n",
      "   Feature_7  Quality  \n",
      "0   2.497458        0  \n",
      "1   1.453947        0  \n",
      "2   1.318246        1  \n",
      "3  -0.682549        0  \n",
      "4   1.464577        0  \n"
     ]
    }
   ],
   "source": [
    "import pandas as pd\n",
    "import numpy as np\n",
    "from sklearn.datasets import make_classification\n",
    "\n",
    "# Generate a synthetic dataset\n",
    "n_samples = 1000  # Number of samples\n",
    "n_features = 7    # Number of features\n",
    "n_classes = 2     # Binary classification (0 and 1)\n",
    "\n",
    "X, y = make_classification(\n",
    "    n_samples=n_samples,\n",
    "    n_features=7,    # Total number of features\n",
    "    n_informative=7, # All features are informative\n",
    "    n_redundant=0,   # No redundant features\n",
    "    n_repeated=0,    # No repeated features\n",
    "    n_classes=2,     # Binary classification\n",
    "    random_state=42  # Reproducibility\n",
    ")\n",
    "\n",
    "# Convert to a DataFrame for better visualization and manipulation\n",
    "columns = [f\"Feature_{i+1}\" for i in range(n_features)]\n",
    "df = pd.DataFrame(X, columns=columns)\n",
    "df['Quality'] = y  # Add the target column\n",
    "\n",
    "# Save the dataset as a CSV file\n",
    "df.to_csv(\"binary_classification_dataset.csv\", index=False)\n",
    "\n",
    "# Print first few rows\n",
    "print(df.head())"
   ]
  },
  {
   "cell_type": "code",
   "execution_count": 3,
   "metadata": {},
   "outputs": [
    {
     "name": "stdout",
     "output_type": "stream",
     "text": [
      "1.0\n"
     ]
    },
    {
     "data": {
      "text/plain": [
       "<qiskit_machine_learning.algorithms.classifiers.vqc.VQC at 0x222229ca380>"
      ]
     },
     "execution_count": 3,
     "metadata": {},
     "output_type": "execute_result"
    }
   ],
   "source": [
    "from sklearn.preprocessing import MinMaxScaler\n",
    "\n",
    "df.loc[df[\"Quality\"] == \"good\", \"Quality\"] = 1\n",
    "df.loc[df[\"Quality\"] == \"bad\", \"Quality\"] = 0\n",
    "\n",
    "scaler = MinMaxScaler(feature_range=(0,1))\n",
    "scaled_x = scaler.fit_transform(df.iloc[:,:7])\n",
    "\n",
    "x_train = scaled_x[:40]\n",
    "x_test = scaled_x[850:]\n",
    "\n",
    "y_train = df.iloc[:40,7].to_numpy(dtype= np.float32)\n",
    "y_test = df.iloc[850:,7].to_numpy(dtype= np.float32)\n",
    "import qiskit\n",
    "import qiskit.circuit\n",
    "from qiskit.circuit.library import ZZFeatureMap\n",
    "from qiskit.circuit.library import TwoLocal\n",
    "from qiskit_machine_learning.optimizers import L_BFGS_B\n",
    "from qiskit_machine_learning.algorithms.classifiers import VQC\n",
    "from matplotlib import pyplot as plt\n",
    "\n",
    "num_features = 7\n",
    "\n",
    "feature_map = ZZFeatureMap(num_features,1)\n",
    "ansatz = TwoLocal(num_features, entanglement=\"linear\",rotation_blocks = qiskit.circuit.library.PhaseGate, entanglement_blocks= \"cx\", reps=12)\n",
    "\n",
    "\n",
    "objective_func_vals = []\n",
    "plt.rcParams[\"figure.figsize\"] = (12, 6)\n",
    "\n",
    "def callback_graph(weights, obj_func_eval):\n",
    "    objective_func_vals.append(objective_func_vals)\n",
    "    print(obj_func_eval)\n",
    "\n",
    "opt = L_BFGS_B(maxiter= 200, iprint = 101)\n",
    "vqc = VQC(\n",
    "    feature_map=feature_map,\n",
    "    ansatz=ansatz,\n",
    "    optimizer=opt,\n",
    "    callback=callback_graph\n",
    ")\n",
    "\n",
    "vqc.fit(x_train,y_train)\n",
    "vqc.optimal_params"
   ]
  },
  {
   "cell_type": "code",
   "execution_count": 11,
   "metadata": {},
   "outputs": [
    {
     "data": {
      "text/plain": [
       "array([0.21223948, 0.3932829 , 0.80523734, 0.3937974 , 0.88786859,\n",
       "       0.60114961, 0.95816174, 0.51916431, 0.05301694, 0.94909863,\n",
       "       0.77787971, 0.53893387, 0.37127862, 0.02499042, 0.30167287,\n",
       "       0.71171345, 0.81892061, 0.80649293, 0.32816061, 0.08985057,\n",
       "       0.3403333 , 0.00505408, 0.77636789, 0.98085838, 0.76305705,\n",
       "       0.59987424, 0.88073588, 0.66046442, 0.62089464, 0.9834085 ,\n",
       "       0.95612688, 0.98481587, 0.71048373, 0.63560486, 0.13231083,\n",
       "       0.94472548, 0.19569212, 0.7027944 , 0.86677502, 0.72513854,\n",
       "       0.02058157, 0.58719247, 0.43507653, 0.65252028, 0.03558521,\n",
       "       0.50150357, 0.47227578, 0.49153573, 0.51312695, 0.37994333,\n",
       "       0.79732973, 0.88930607, 0.94533613, 0.19993751, 0.81888176,\n",
       "       0.07104097, 0.62652359, 0.29089113, 0.05175284, 0.97373225,\n",
       "       0.11744636, 0.93888485, 0.2195871 , 0.26281874, 0.68813913,\n",
       "       0.55974089, 0.84913225, 0.62828379, 0.25850927, 0.11032721,\n",
       "       0.89305973, 0.39812989, 0.83311126, 0.70217894, 0.50443791,\n",
       "       0.11867607, 0.16804939, 0.45415141, 0.23333433, 0.644489  ,\n",
       "       0.32031067, 0.04368924, 0.72071236, 0.10552026, 0.24456681,\n",
       "       0.11153119, 0.51728166, 0.18232322, 0.01588431, 0.60423717,\n",
       "       0.14552422])"
      ]
     },
     "execution_count": 11,
     "metadata": {},
     "output_type": "execute_result"
    }
   ],
   "source": [
    "optimal_parameters = vqc.weights\n",
    "optimal_parameters"
   ]
  },
  {
   "cell_type": "code",
   "execution_count": 10,
   "metadata": {},
   "outputs": [
    {
     "name": "stdout",
     "output_type": "stream",
     "text": [
      "0.65\n",
      "0.5066666666666667\n"
     ]
    }
   ],
   "source": [
    "train_score = vqc.score(x_train, y_train)\n",
    "test_score = vqc.score(x_test, y_test)\n",
    "print(train_score)\n",
    "print(test_score)"
   ]
  },
  {
   "cell_type": "code",
   "execution_count": null,
   "metadata": {},
   "outputs": [],
   "source": []
  }
 ],
 "metadata": {
  "kernelspec": {
   "display_name": "Python 3",
   "language": "python",
   "name": "python3"
  },
  "language_info": {
   "codemirror_mode": {
    "name": "ipython",
    "version": 3
   },
   "file_extension": ".py",
   "mimetype": "text/x-python",
   "name": "python",
   "nbconvert_exporter": "python",
   "pygments_lexer": "ipython3",
   "version": "3.10.0"
  }
 },
 "nbformat": 4,
 "nbformat_minor": 2
}
